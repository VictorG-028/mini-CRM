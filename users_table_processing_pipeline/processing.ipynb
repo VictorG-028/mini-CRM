{
 "cells": [
  {
   "cell_type": "markdown",
   "id": "af08943c",
   "metadata": {},
   "source": [
    "# Preparation"
   ]
  },
  {
   "cell_type": "code",
   "execution_count": null,
   "id": "fb9f927a",
   "metadata": {
    "vscode": {
     "languageId": "plaintext"
    }
   },
   "outputs": [],
   "source": [
    "import numpy as np\n",
    "import pandas as pd\n",
    "# import matplotlib"
   ]
  },
  {
   "cell_type": "code",
   "execution_count": null,
   "id": "9722c02f",
   "metadata": {
    "vscode": {
     "languageId": "plaintext"
    }
   },
   "outputs": [],
   "source": [
    "big_file = 'sensitive_data/big_PACIENTES.csv'\n",
    "small_file = 'sensitive_data/small_PACIENTES.csv"
   ]
  },
  {
   "cell_type": "markdown",
   "id": "b4bf40b3",
   "metadata": {},
   "source": [
    "# Initial analysis"
   ]
  },
  {
   "cell_type": "code",
   "execution_count": null,
   "id": "f152ccdc",
   "metadata": {
    "vscode": {
     "languageId": "plaintext"
    }
   },
   "outputs": [],
   "source": [
    "def plot_columns_names(filepath: str):\n",
    "  try:\n",
    "    # Read only the first row to get the headers\n",
    "    df_head = pd.read_csv(caminho_arquivo, nrows=0)\n",
    "    print(f\"Cabeçalhos do arquivo: {caminho_arquivo}\")\n",
    "    for i, col in enumerate(df_head.columns):\n",
    "    print(f\"[{i+1:02d}] {col}\")\n",
    "    print(\"\\n\" + \"=\"*30 + \"\\n\")\n",
    "    except FileNotFoundError:\n",
    "    print(f\"Erro: Arquivo não encontrado em: {caminho_arquivo}\\n\")\n",
    "    except Exception as e:\n",
    "    print(f\"Erro ao ler o arquivo {caminho_arquivo}: {e}\\n\")\n",
    "  except Exception as e:\n",
    "    print(f\"Erro ao ler o arquivo {caminho_arquivo}: {e}\\n\")"
   ]
  },
  {
   "cell_type": "code",
   "execution_count": null,
   "id": "6cee600c",
   "metadata": {
    "vscode": {
     "languageId": "plaintext"
    }
   },
   "outputs": [],
   "source": []
  }
 ],
 "metadata": {
  "language_info": {
   "name": "python"
  }
 },
 "nbformat": 4,
 "nbformat_minor": 5
}
